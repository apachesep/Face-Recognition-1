{
 "cells": [
  {
   "cell_type": "code",
   "execution_count": 1,
   "metadata": {},
   "outputs": [],
   "source": [
    "from matplotlib import pyplot as plt\n",
    "from ez_recognize import RecognitionUtils"
   ]
  },
  {
   "cell_type": "code",
   "execution_count": 2,
   "metadata": {},
   "outputs": [
    {
     "name": "stdout",
     "output_type": "stream",
     "text": [
      "ey: 121\n",
      "bottom: 120\n"
     ]
    },
    {
     "data": {
      "image/png": "[encoded data removed]",
      "text/plain": [
       "<matplotlib.figure.Figure at 0x111a96198>"
      ]
     },
     "metadata": {},
     "output_type": "display_data"
    },
    {
     "name": "stdout",
     "output_type": "stream",
     "text": [
      "ey: 123\n",
      "bottom: 122\n"
     ]
    },
    {
     "data": {
      "image/png": "[encoded data removed]",
      "text/plain": [
       "<matplotlib.figure.Figure at 0x11038b860>"
      ]
     },
     "metadata": {},
     "output_type": "display_data"
    },
    {
     "name": "stdout",
     "output_type": "stream",
     "text": [
      "左眼最高點： (240, 282)\n",
      "右眼最高點： (386, 282)\n",
      "左眼最低點： (257, 313)\n",
      "右眼最低點： (383, 315)\n",
      "左眉： (242.5, 267.5)\n",
      "右眉： (396.0, 268.5)\n",
      "左眉箱型座標： [(188, 250), (297, 250), (188, 270), (297, 270)]\n",
      "左眉箱型座標： [(343, 250), (449, 250), (343, 272), (449, 272)]\n"
     ]
    },
    {
     "ename": "NameError",
     "evalue": "name 'RecognitionUtils' is not defined",
     "output_type": "error",
     "traceback": [
      "\u001b[0;31m---------------------------------------------------------------------------\u001b[0m",
      "\u001b[0;31mNameError\u001b[0m                                 Traceback (most recent call last)",
      "\u001b[0;32m<ipython-input-2-a864bf00ca76>\u001b[0m in \u001b[0;36m<module>\u001b[0;34m()\u001b[0m\n\u001b[1;32m     26\u001b[0m draw_points = [left_eye_top_axis, left_eye_bottom_axis, right_eye_top_axis,\n\u001b[1;32m     27\u001b[0m                right_eye_bottom_axis, left_eyebrow_axis, right_eyebrow_axis]\n\u001b[0;32m---> 28\u001b[0;31m \u001b[0mdrawn_img\u001b[0m \u001b[0;34m=\u001b[0m \u001b[0mRecognitionUtils\u001b[0m\u001b[0;34m.\u001b[0m\u001b[0mdraw_point\u001b[0m\u001b[0;34m(\u001b[0m\u001b[0mIMG_URL\u001b[0m\u001b[0;34m,\u001b[0m \u001b[0mdraw_points\u001b[0m\u001b[0;34m)\u001b[0m\u001b[0;34m\u001b[0m\u001b[0m\n\u001b[0m\u001b[1;32m     29\u001b[0m \u001b[0mplt\u001b[0m\u001b[0;34m.\u001b[0m\u001b[0mimshow\u001b[0m\u001b[0;34m(\u001b[0m\u001b[0mdrawn_img\u001b[0m\u001b[0;34m)\u001b[0m\u001b[0;34m\u001b[0m\u001b[0m\n\u001b[1;32m     30\u001b[0m \u001b[0mplt\u001b[0m\u001b[0;34m.\u001b[0m\u001b[0mshow\u001b[0m\u001b[0;34m(\u001b[0m\u001b[0;34m)\u001b[0m\u001b[0;34m\u001b[0m\u001b[0m\n",
      "\u001b[0;32m/Users/s960405s/pythonRepository/Face Recognition/ez_recognize/RecognitionUtils.py\u001b[0m in \u001b[0;36mdraw_point\u001b[0;34m(IMG_URL, draw_points)\u001b[0m\n\u001b[1;32m    201\u001b[0m \u001b[0;34m\u001b[0m\u001b[0m\n\u001b[1;32m    202\u001b[0m     \u001b[0;32mfor\u001b[0m \u001b[0mpoint\u001b[0m \u001b[0;32min\u001b[0m \u001b[0mdraw_points\u001b[0m\u001b[0;34m:\u001b[0m\u001b[0;34m\u001b[0m\u001b[0m\n\u001b[0;32m--> 203\u001b[0;31m         \u001b[0md\u001b[0m\u001b[0;34m.\u001b[0m\u001b[0mellipse\u001b[0m\u001b[0;34m(\u001b[0m\u001b[0mRecognitionUtils\u001b[0m\u001b[0;34m.\u001b[0m\u001b[0mtransform_2_point\u001b[0m\u001b[0;34m(\u001b[0m\u001b[0mpoint\u001b[0m\u001b[0;34m)\u001b[0m\u001b[0;34m,\u001b[0m \u001b[0mfill\u001b[0m\u001b[0;34m=\u001b[0m\u001b[0;34m(\u001b[0m\u001b[0;36m255\u001b[0m\u001b[0;34m,\u001b[0m \u001b[0;36m0\u001b[0m\u001b[0;34m,\u001b[0m \u001b[0;36m0\u001b[0m\u001b[0;34m)\u001b[0m\u001b[0;34m)\u001b[0m\u001b[0;34m\u001b[0m\u001b[0m\n\u001b[0m\u001b[1;32m    204\u001b[0m \u001b[0;34m\u001b[0m\u001b[0m\n\u001b[1;32m    205\u001b[0m     \u001b[0;32mreturn\u001b[0m \u001b[0mpil_image\u001b[0m\u001b[0;34m\u001b[0m\u001b[0m\n",
      "\u001b[0;31mNameError\u001b[0m: name 'RecognitionUtils' is not defined"
     ]
    }
   ],
   "source": [
    "IMG_URL = 'images/1.jpg'\n",
    "\n",
    "# Variables =================================\n",
    "# left_eye_top_axis: 左眼最高點座標(包含眼皮)\n",
    "# left_eye_bottom_axis: 左眼最低點座標\n",
    "# right_eye_top_axis: 右眼最高點座標(包含眼皮)\n",
    "# right_eye_bottom_axis: 右眼最低點座標\n",
    "# left_eyebrow_axis: 左眉毛座標\n",
    "# right_eyebrow_axis: 右眉毛座標\n",
    "# left_eyebrow_box: 左眉毛四角箱型座標\n",
    "# right_eyebrow_box: 右眉毛四角箱型座標\n",
    "# ===========================================\n",
    "\n",
    "left_eyebrow_axis, right_eyebrow_axis, left_eye_bottom_axis, right_eye_bottom_axis, left_eyebrow_box, right_eyebrow_box = RecognitionUtils.recognize_eye_and_eyebrow_axis(IMG_URL)\n",
    "[left_eye_top_axis, right_eye_top_axis] = RecognitionUtils.recognize_eye_top_axis(IMG_URL, left_eyebrow_box, right_eyebrow_box)\n",
    "\n",
    "print('左眼最高點：',left_eye_top_axis)\n",
    "print('右眼最高點：', right_eye_top_axis)\n",
    "print('左眼最低點：', left_eye_bottom_axis)\n",
    "print('右眼最低點：', right_eye_bottom_axis)\n",
    "print('左眉：', left_eyebrow_axis)\n",
    "print('右眉：', right_eyebrow_axis)\n",
    "print('左眉箱型座標：', left_eyebrow_box)\n",
    "print('左眉箱型座標：', right_eyebrow_box)\n",
    "\n",
    "draw_points = [left_eye_top_axis, left_eye_bottom_axis, right_eye_top_axis,\n",
    "               right_eye_bottom_axis, left_eyebrow_axis, right_eyebrow_axis]\n",
    "drawn_img = RecognitionUtils.draw_point(IMG_URL, draw_points)\n",
    "plt.imshow(drawn_img)\n",
    "plt.show()"
   ]
  },
  {
   "cell_type": "code",
   "execution_count": null,
   "metadata": {
    "collapsed": true
   },
   "outputs": [],
   "source": []
  }
 ],
 "metadata": {
  "kernelspec": {
   "display_name": "Python 3",
   "language": "python",
   "name": "python3"
  },
  "language_info": {
   "codemirror_mode": {
    "name": "ipython",
    "version": 3
   },
   "file_extension": ".py",
   "mimetype": "text/x-python",
   "name": "python",
   "nbconvert_exporter": "python",
   "pygments_lexer": "ipython3",
   "version": "3.6.1"
  }
 },
 "nbformat": 4,
 "nbformat_minor": 2
}
